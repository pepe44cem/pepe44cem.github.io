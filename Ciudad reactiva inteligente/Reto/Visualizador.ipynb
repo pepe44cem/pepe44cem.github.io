{
 "cells": [
  {
   "cell_type": "code",
   "execution_count": 1,
   "id": "6855d6b3-adf2-4e5e-b924-94a8965a377d",
   "metadata": {},
   "outputs": [
    {
     "data": {
      "application/vnd.jupyter.widget-view+json": {
       "model_id": "4b72be7de26e4e9db5be18a60df9cba1",
       "version_major": 2,
       "version_minor": 0
      },
      "text/html": [
       "Cannot show widget. You probably want to rerun the code cell above (<i>Click in the code cell, and press Shift+Enter <kbd>⇧</kbd>+<kbd>↩</kbd></i>)."
      ],
      "text/plain": [
       "Cannot show ipywidgets in text"
      ]
     },
     "metadata": {},
     "output_type": "display_data"
    }
   ],
   "source": [
    "# Visualizar el modelo de simulación\n",
    "# Autores: José Antonio Moreno Tahuilan A01747922\n",
    "#          Ángel Armando Márquez Curiel A01750147\n",
    "#          Hector Gonzalez Sanchez A01753863\n",
    "#          Alfredo Azamar López A01798100\n",
    "# Fecha de creación/modificación: 16 11 2023\n",
    "\n",
    "import mesa # type: ignore\n",
    "import random\n",
    "import numpy as np\n",
    "from mesa.experimental import JupyterViz # type: ignore\n",
    "import solara\n",
    "from matplotlib.figure import Figure\n",
    "import time\n",
    "\n",
    "from typing import Tuple, Iterator, Dict, List\n",
    "from collections import deque\n",
    "\n",
    "from Model_Reto import Model\n",
    "from Agentes_Reto import *\n",
    "\n",
    "def agent_portrayal(agent):\n",
    "        if isinstance(agent, Car):\n",
    "            return {\"color\": \"tab:orange\",\"size\": 50, \"layer\": 1}\n",
    "        elif isinstance(agent, Bus):\n",
    "            return {\"color\": \"tab:purple\",\"size\": 50, \"layer\": 1}\n",
    "        elif isinstance(agent, Parking_In):\n",
    "            return {\"color\": \"yellow\",\"size\": 50, \"layer\": 1}\n",
    "        elif isinstance(agent, Parking_Out):\n",
    "            return {\"color\": \"yellow\",\"size\": 50, \"layer\": 1}\n",
    "        elif isinstance(agent, Corner):\n",
    "            return {\"color\": \"brown\", \"size\": 50, \"layer\": 10}\n",
    "        elif isinstance(agent, Builing):\n",
    "            return {\"color\": \"tab:blue\", \"size\": 50, \"layer\": 1}\n",
    "        elif isinstance(agent, Semaforo):\n",
    "            if agent.estado == 'rojo':\n",
    "                return {\"color\": \"red\",\"size\": 50, \"layer\": 1}\n",
    "            else:\n",
    "                return {\"color\": \"green\",\"size\": 50, \"layer\": 1}\n",
    "        elif isinstance(agent, SideWalk):\n",
    "            return {\"color\": \"grey\",\"size\": 50, \"layer\": 1}\n",
    "        elif isinstance(agent, People):\n",
    "            return {\"color\": \"black\", \"size\": 50, \"layer\": 1}\n",
    "\n",
    "\n",
    "model_params = {\n",
    "    \"num_agents\": {\n",
    "        \"value\": 1\n",
    "    }\n",
    "}\n",
    "\n",
    "page = JupyterViz(\n",
    "    Model,\n",
    "    model_params,\n",
    "    measures=[],\n",
    "    name=\"Cleaning Environment\",\n",
    "    agent_portrayal=agent_portrayal\n",
    "    \n",
    ")\n",
    "# This is required to render the visualization in the Jupyter notebook\n",
    "page"
   ]
  },
  {
   "cell_type": "code",
   "execution_count": null,
   "metadata": {},
   "outputs": [],
   "source": []
  }
 ],
 "metadata": {
  "kernelspec": {
   "display_name": "Python 3 (ipykernel)",
   "language": "python",
   "name": "python3"
  },
  "language_info": {
   "codemirror_mode": {
    "name": "ipython",
    "version": 3
   },
   "file_extension": ".py",
   "mimetype": "text/x-python",
   "name": "python",
   "nbconvert_exporter": "python",
   "pygments_lexer": "ipython3",
   "version": "3.11.4"
  }
 },
 "nbformat": 4,
 "nbformat_minor": 5
}
